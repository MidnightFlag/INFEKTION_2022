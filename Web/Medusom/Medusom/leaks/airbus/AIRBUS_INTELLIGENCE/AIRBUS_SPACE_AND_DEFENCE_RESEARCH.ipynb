{
  "nbformat": 4,
  "nbformat_minor": 0,
  "metadata": {
    "colab": {
      "name": "AIRBUS_SPACE_AND_DEFENCE_RESEARCH.ipynb",
      "provenance": []
    },
    "kernelspec": {
      "name": "python3",
      "display_name": "Python 3"
    }
  },
  "cells": [
    {
      "cell_type": "markdown",
      "metadata": {
        "id": "kE_iuTk4JsEa",
        "colab_type": "text"
      },
      "source": [
        "Pléiades is an optical satellite constellation providing very high-resolution products (50cm) with a 20km swath.\n",
        "Both the space and the ground segment have been designed to provide information in record time, offering daily revisit capacity to any point on the globe and outstanding acquisition capabilities to meet the full spectrum of civil and military requirements.\n",
        "The Pléiades constellation is the right answer to extract accurate information and bring powerful insight to make informed decisions.\n",
        "\n",
        "\n",
        " Product Description\n",
        "\n",
        "50cm resolution products\n",
        "20km swath\n",
        "Complete ortho product range: Standard (automatic), Tailored and premium\n",
        "12 bits dynamic range for high detection capabilities\n",
        "Online tasking, purchasing and delivery\n",
        "\n",
        "\n",
        "KEY FEATURES\n",
        "\n",
        "    Very-high-resolution multispectral twin satellites [50-cm products]\n",
        "    Daily revisit capacity and highly reactive tasking  \n",
        "    Advanced agility including 5 collection scenarios: Target, Strip Mapping, Tri-Stereo, Corridor and Persistent Surveillance\n",
        "    Truly available satellite resource capacity\n",
        "    Stereo / Tristereo capacity and fresh archive\n",
        "\n",
        "\n",
        "\n",
        "\n",
        "KEY BENEFITS\n",
        "\n",
        "    Detailed & Precise: ideal for precision mapping and in-depth intelligence\n",
        "    Fast & Frequent: particularly suitable for emergency response and up-todaily change detection\n",
        "    Available & Reactive: with an industryleading collection success rate, Pléiades is the unanimous choice for new collections and timely decision-making\n",
        "    Accurate orthorectified imagery as a standard & detailed and solid 3D models, affordable even in the most inaccessible locations\n",
        "\n",
        "\n",
        "\n",
        "\n",
        "TASKING CAPABILITIES\n",
        "\n",
        "    Joint optimized tasking together with Pléiades through “One Tasking” offer\n",
        "    Online tasking through GeoStore, available 24/7, in full autonomy\n",
        "    Perfect for small-area acquisitions with standard parameters or for urgent tasking\n",
        "    Dedicated support and tracking from a satellite tasking expert. Ideal choice for complex AoIs or specific parameters\n",
        "    Three satellite work plans a day ensuring easy handling of last-minute tasking requests\n",
        "    All orbit contact allowing rapid access to critical information\n",
        "\n",
        "\n",
        "TARGETED MARKETS & APPLICATIONS\n",
        "\n",
        "    Defence\n",
        "    Risk and disaster management\n",
        "    Urban and mapping applications\n",
        "    Civil Engineering\n",
        "\n",
        "\n",
        "\n",
        "\n",
        "\n",
        "\n",
        "AIRBUS \n",
        "OneAtlas\n",
        "Connecting Images from Space to Decisions on Earthx\n",
        "\n",
        "\n",
        "https://www.intelligence-airbusds.com/oneatlas/\n",
        "\n",
        "\n",
        "\n",
        "\n",
        " Airbus Defence and Space intelligence account\n",
        "\n",
        "\n",
        "OneAtlas is a unique collaborative environment to easily access premium imagery, perform large-scale image processing, extract industry specific insights and benefit from Airbus assets to develop your solutions.\n",
        "\n",
        "The OneAtlas Services include:\n",
        "\n",
        "    Living Library\n",
        "    WorldDEM Streaming\n",
        "    Verde\n",
        "\n",
        "    Mobile\n",
        "    Change Detection\n",
        "    Starling\n",
        "\n",
        "\n",
        "    Basemap\n",
        "    Earth Monitor\n",
        "    Ocean Finder\n",
        "    Refinery Scanner\n",
        "\n",
        "\n",
        "\n",
        "Airbus Defence and Space offers different options for purchasing products, services or solutions.\n",
        "\n",
        "You can contact our Customer Service to assist you personally with your product or service request. Or you can use our range of web tools that allows you to order or purchase our satellite data and associated services online.\n",
        "\n",
        "\n",
        "OneAtlas\n",
        "\n",
        "OneAtlas provides access to premium imagery, large-scale image processing, industry-specific insights and more.\n",
        "\n",
        "\n",
        "\n",
        "Data Services\n",
        "\n",
        "OneAtlas provides users with easy access to multi-source, multi-resolution data and value-added layers that are immediately available off-the-shelf and easy to use.\n",
        "\n",
        "Our Data service includes:\n",
        "\n",
        "    Living Library\n",
        "    Basemap\n",
        "    WorldDEM Streaming service\n",
        "\n",
        "\n",
        "\n",
        "Thematic Applications\n",
        "\n",
        "OneAtlas combines premium data and industry-leading expertise to deliver Thematic Services. Designed to provide industry-specific insights enabling users to make better informed decisions.\n",
        "\n",
        "Our Thematic Services include:\n",
        "\n",
        "    Change Detection\n",
        "    Ocean Finder\n",
        "    Starling\n",
        "    Verde\n",
        "    RefineryScanner\n",
        "\n",
        "\n",
        "\n",
        "\n",
        "Analytics\n",
        "\n",
        "OneAtlas combines our data services with analytics capabilities that are suited for a variety of markets.\n",
        "\n",
        "Our analytic capabilities include:\n",
        "\n",
        "    Earth Monitor\n",
        "    Change Detection\n",
        "\n",
        "\n",
        "\n",
        "Up42\n",
        "\n",
        "UP42 is an open platform and marketplace to build, run, and scale geospatial products.\n",
        "\n",
        "It brings together high-resolution satellite data from OneAtlas, Sentinel Hub, sobloo and more, with ready-to-use algorithms — serving as a marketplace for the exchange and use of geospatial data and processing algorithms.\n",
        "\n",
        "UP42 lowers the barrier of entry to use geospatial data by making it easy to access and analyze. Designed to enable users to extract insight for themselves, UP42 is bringing geospatial data within reach.\n",
        "\n",
        "\n"
      ]
    },
    {
      "cell_type": "code",
      "metadata": {
        "id": "Cg2r-PKbGK6p",
        "colab_type": "code",
        "colab": {
          "base_uri": "https://localhost:8080/",
          "height": 113
        },
        "outputId": "44c85d98-9dca-42db-d8c8-558c044c5831"
      },
      "source": [
        "!apt-get install unzip"
      ],
      "execution_count": 1,
      "outputs": [
        {
          "output_type": "stream",
          "text": [
            "Reading package lists... Done\n",
            "Building dependency tree       \n",
            "Reading state information... Done\n",
            "unzip is already the newest version (6.0-21ubuntu1).\n",
            "0 upgraded, 0 newly installed, 0 to remove and 28 not upgraded.\n"
          ],
          "name": "stdout"
        }
      ]
    },
    {
      "cell_type": "code",
      "metadata": {
        "id": "VcOiYTEWGO8C",
        "colab_type": "code",
        "colab": {
          "base_uri": "https://localhost:8080/",
          "height": 74
        },
        "outputId": "9df33759-2bc9-467b-ff7a-98f9d4db9850"
      },
      "source": [
        "!curl -o DS_PHR1A_201612271908229_FR1_PX_W123N37_0719_01350.zip \"https://storage.googleapis.com/oneatlas-sandbox/USA-4/DS_PHR1A_201612271908229_FR1_PX_W123N37_0719_01350.zip?GoogleAccessId=storage-viewer@oneatlas-sandbox.iam.gserviceaccount.com&Expires=1577919599&Signature=LQy6s3CzwZ0p2KsGL9BABo15oQUtwalnbgzKp0ir%2FrGpW0Cai872VNIeWgk2natUbCIbnrjVBTJLYMLnsXU8gNeiOqG0eTb2wB%2FimeHTe0g9BwyYqNHrvdzEguDOqno0GNwJt2k43sJvy%2Bf7240RIa2Qm3NbEhnlY5yJTlXBI%2FkjlHbNYJCLqUBFh8i3l3byNsbb5cBs2BHJ9JT7EasjPtfIBzF4hccChfToEPUZkjNs0%2B%2FMqPS%2B3S%2FaxdH4dwujVrhQU607uuxbSRFZWaZU0eJVtfQo8WtuQFYaA40Kavp8rXb%2B5TTTvGESyJNBonlq21N5m8s%2Fh7qAOmlOChE6fQ%3D%3D\"\n"
      ],
      "execution_count": 2,
      "outputs": [
        {
          "output_type": "stream",
          "text": [
            "  % Total    % Received % Xferd  Average Speed   Time    Time     Time  Current\n",
            "                                 Dload  Upload   Total   Spent    Left  Speed\n",
            "100 1111M  100 1111M    0     0   177M      0  0:00:06  0:00:06 --:--:--  187M\n"
          ],
          "name": "stdout"
        }
      ]
    },
    {
      "cell_type": "code",
      "metadata": {
        "id": "KaDPWdixGUzT",
        "colab_type": "code",
        "colab": {
          "base_uri": "https://localhost:8080/",
          "height": 74
        },
        "outputId": "929dd31c-13e8-47d2-ad45-f11b69ad5760"
      },
      "source": [
        "!curl -o DS_PHR1B_201401131909126_FR1_PX_W123N37_0717_02786.zip \"https://storage.googleapis.com/oneatlas-sandbox/USA-4/DS_PHR1B_201401131909126_FR1_PX_W123N37_0717_02786.zip?GoogleAccessId=storage-viewer@oneatlas-sandbox.iam.gserviceaccount.com&Expires=1577919599&Signature=GdEquDfsuzG%2FyqgWq%2F8qPF3l84JhgVoNwkJJFflhedNYrRxCLXz%2B4MOrliZc0B3RIf6h4Rxf3NPk2IwfM4keeoFNAX7T8slYG1QAxuHUhWBkYjl7fGD0mTnQafkLeaMEvRu2K%2F%2BZeMJkrlYokjV2C4DNt1bVz4twkFxx5Km4ObGbO6I6YgRMyL9s855Y8PeEOrIXUGAvNXPM1amBIJ%2BnjXvCFT5zkHkRKiTpAURD3JkAIdnlOxPrNyHn2e43NjpvVvMdq1uAoK1RBPH%2F1X8q4OJV3pTWdRc%2FcFczOoqlEj7NLxF0J5hSna%2B4QeVIJlMVSbnB%2FCKOMUURL8bwWMJ70g%3D%3D\"\n"
      ],
      "execution_count": 3,
      "outputs": [
        {
          "output_type": "stream",
          "text": [
            "  % Total    % Received % Xferd  Average Speed   Time    Time     Time  Current\n",
            "                                 Dload  Upload   Total   Spent    Left  Speed\n",
            "100 1637M  100 1637M    0     0  39.2M      0  0:00:41  0:00:41 --:--:-- 89.7M\n"
          ],
          "name": "stdout"
        }
      ]
    },
    {
      "cell_type": "code",
      "metadata": {
        "id": "FkQ9vR1_GW6l",
        "colab_type": "code",
        "colab": {
          "base_uri": "https://localhost:8080/",
          "height": 74
        },
        "outputId": "58e78253-259f-47d9-9cba-0c495078f7f5"
      },
      "source": [
        "!curl -o DS_PHR1B_201611181909035_FR1_PX_W123N37_0817_01200.zip \"https://storage.googleapis.com/oneatlas-sandbox/USA-4/DS_PHR1B_201611181909035_FR1_PX_W123N37_0817_01200.zip?GoogleAccessId=storage-viewer@oneatlas-sandbox.iam.gserviceaccount.com&Expires=1577919599&Signature=GY027CjpF3KrprKEsXAS6Vv%2BMKG%2BUOYxnlgcY7p6Q%2BlHByuvqgekQcni9WUOiTF7dnDXShksX5s3okeX%2B7ZP7zf5dSZsDpoXgU44vQQBHl34yXiY4Jwfa4XEV87urApfuCv7zebhucVImOrApxw%2BhP%2FlaX%2BtTGRG%2FcDk3THB76SdNvoFY%2BcAGceoCBYvNIfok4SY0PJ%2FgSIdrGAbV8L7fzkxgmx6S7388v0wEM1unwxYz3BO7I50hb%2Fn3Iz76DJWbRy2rZSpVkMqKJZG9KUqpqJzaH23WXpvhg2PP7J7RLDPUNjiB%2Fzpq3SHNO%2BInwok37F03PiGzkB9cEQawYRDEw%3D%3D\"\n"
      ],
      "execution_count": 4,
      "outputs": [
        {
          "output_type": "stream",
          "text": [
            "  % Total    % Received % Xferd  Average Speed   Time    Time     Time  Current\n",
            "                                 Dload  Upload   Total   Spent    Left  Speed\n",
            "100  935M  100  935M    0     0  32.5M      0  0:00:28  0:00:28 --:--:-- 55.1M\n"
          ],
          "name": "stdout"
        }
      ]
    },
    {
      "cell_type": "code",
      "metadata": {
        "id": "N-WevpMqGZC8",
        "colab_type": "code",
        "colab": {
          "base_uri": "https://localhost:8080/",
          "height": 74
        },
        "outputId": "34634e38-55c7-4063-8da5-180f8b8f58e9"
      },
      "source": [
        "!curl -o DS_PHR1B_201702111904481_FR1_PX_W123N37_0719_01352.zip \"https://storage.googleapis.com/oneatlas-sandbox/USA-4/DS_PHR1B_201702111904481_FR1_PX_W123N37_0719_01352.zip?GoogleAccessId=storage-viewer@oneatlas-sandbox.iam.gserviceaccount.com&Expires=1577919599&Signature=egz6PHGaiC3x02lYgl33f1K5mbbAoPwgDCS4LlBmQSr0KoI5b70AQsMevBwCn5L7Meeduypakdkco7OBITQxUpaHLTrhuT%2F6aA1lNuFdFmm3W4qeKbHJp2dCGGS6cs0KcdzkRNFdPapyjO90UIaJ7H32qn03hr3kxQxftYIMIFgYUuiP2iPlz7tBEKxlKKQIA56qJG7R95rSbolOqAq0awJ%2BakgrvRY64ExuQXG%2BTH3DhAJkZB4qU2mWB435N%2BDVkMNy0p%2Bg7bYpnWr6DngQgCvrVWcbWZHbcKhrzx5Bq96pxnme5VwNfsr9v4f08%2FDSvJvh8sJNr59RHTSYDx%2F0Hw%3D%3D\""
      ],
      "execution_count": 5,
      "outputs": [
        {
          "output_type": "stream",
          "text": [
            "  % Total    % Received % Xferd  Average Speed   Time    Time     Time  Current\n",
            "                                 Dload  Upload   Total   Spent    Left  Speed\n",
            "100 1013M  100 1013M    0     0  37.8M      0  0:00:26  0:00:26 --:--:-- 26.5M\n"
          ],
          "name": "stdout"
        }
      ]
    },
    {
      "cell_type": "code",
      "metadata": {
        "id": "bibMD-r7G8P4",
        "colab_type": "code",
        "colab": {
          "base_uri": "https://localhost:8080/",
          "height": 113
        },
        "outputId": "31733fed-adf8-4eef-cc6a-f50e876ee1e6"
      },
      "source": [
        "!ls"
      ],
      "execution_count": 6,
      "outputs": [
        {
          "output_type": "stream",
          "text": [
            "DS_PHR1A_201612271908229_FR1_PX_W123N37_0719_01350.zip\n",
            "DS_PHR1B_201401131909126_FR1_PX_W123N37_0717_02786.zip\n",
            "DS_PHR1B_201611181909035_FR1_PX_W123N37_0817_01200.zip\n",
            "DS_PHR1B_201702111904481_FR1_PX_W123N37_0719_01352.zip\n",
            "sample_data\n"
          ],
          "name": "stdout"
        }
      ]
    },
    {
      "cell_type": "code",
      "metadata": {
        "id": "3n3s4iRVG_fi",
        "colab_type": "code",
        "colab": {
          "base_uri": "https://localhost:8080/",
          "height": 629
        },
        "outputId": "f85c3e9d-bb78-48e2-cc12-b7b0c5b10df9"
      },
      "source": [
        "!unzip DS_PHR1A_201612271908229_FR1_PX_W123N37_0719_01350.zip"
      ],
      "execution_count": 7,
      "outputs": [
        {
          "output_type": "stream",
          "text": [
            "Archive:  DS_PHR1A_201612271908229_FR1_PX_W123N37_0719_01350.zip\n",
            "   creating: TPP1600634630/\n",
            " extracting: TPP1600634630/DELIVERY.PDF  \n",
            "   creating: TPP1600634630/IMG_PHR1A_PMS_001/\n",
            " extracting: TPP1600634630/IMG_PHR1A_PMS_001/DIM_PHR1A_PMS_201612271908229_ORT_2326238101-001.XML  \n",
            " extracting: TPP1600634630/IMG_PHR1A_PMS_001/ICON_PHR1A_PMS_201612271908229_ORT_2326238101-001.JPG  \n",
            " extracting: TPP1600634630/IMG_PHR1A_PMS_001/IMG_PHR1A_PMS_201612271908229_ORT_2326238101-001_R1C1.J2W  \n",
            " extracting: TPP1600634630/IMG_PHR1A_PMS_001/IMG_PHR1A_PMS_201612271908229_ORT_2326238101-001_R1C1.JP2  \n",
            " extracting: TPP1600634630/IMG_PHR1A_PMS_001/INDEX.HTM  \n",
            "   creating: TPP1600634630/IMG_PHR1A_PMS_001/LIBRARY/\n",
            " extracting: TPP1600634630/IMG_PHR1A_PMS_001/LIBRARY/LOGO.JPG  \n",
            " extracting: TPP1600634630/IMG_PHR1A_PMS_001/LIBRARY/STYLE.XSL  \n",
            "   creating: TPP1600634630/IMG_PHR1A_PMS_001/LINEAGE/\n",
            " extracting: TPP1600634630/IMG_PHR1A_PMS_001/LINEAGE/GROUND_R3D_OR_SPOTView_N37W123_DIM.XML  \n",
            " extracting: TPP1600634630/IMG_PHR1A_PMS_001/LINEAGE/HEIGHT_R3D_DT2_N37W123_DIM.XML  \n",
            " extracting: TPP1600634630/IMG_PHR1A_PMS_001/LINEAGE/PROCESSING_PHR1A_PMS_201612271908229_ORT_2326238101-001_DIM.XML  \n",
            " extracting: TPP1600634630/IMG_PHR1A_PMS_001/LINEAGE/STRIP_DS_PHR1A_201612271908229_FR1_PX_W123N37_0719_01350_DIM.XML  \n",
            "   creating: TPP1600634630/IMG_PHR1A_PMS_001/MASKS/\n",
            " extracting: TPP1600634630/IMG_PHR1A_PMS_001/MASKS/CLD_PHR1A_PMS_201612271908229_ORT_2326238101-001_MSK.GML  \n",
            " extracting: TPP1600634630/IMG_PHR1A_PMS_001/MASKS/DET_PHR1A_PMS_201612271908229_ORT_2326238101-001_MSK.GML  \n",
            " extracting: TPP1600634630/IMG_PHR1A_PMS_001/MASKS/QTE_PHR1A_PMS_201612271908229_ORT_2326238101-001_MSK.GML  \n",
            " extracting: TPP1600634630/IMG_PHR1A_PMS_001/MASKS/ROI_PHR1A_PMS_201612271908229_ORT_2326238101-001_MSK.GML  \n",
            " extracting: TPP1600634630/IMG_PHR1A_PMS_001/MASKS/SLT_PHR1A_PMS_201612271908229_ORT_2326238101-001_MSK.GML  \n",
            " extracting: TPP1600634630/IMG_PHR1A_PMS_001/MASKS/SNW_PHR1A_PMS_201612271908229_ORT_2326238101-001_MSK.GML  \n",
            " extracting: TPP1600634630/IMG_PHR1A_PMS_001/MASKS/VIS_PHR1A_PMS_201612271908229_ORT_2326238101-001_MSK.GML  \n",
            " extracting: TPP1600634630/IMG_PHR1A_PMS_001/PREVIEW_PHR1A_PMS_201612271908229_ORT_2326238101-001.JPG  \n",
            " extracting: TPP1600634630/IMG_PHR1A_PMS_001/PREVIEW_PHR1A_PMS_201612271908229_ORT_2326238101-001.KMZ  \n",
            " extracting: TPP1600634630/INDEX.HTM  \n",
            "   creating: TPP1600634630/LIBRARY/\n",
            " extracting: TPP1600634630/LIBRARY/LOGO.JPG  \n",
            " extracting: TPP1600634630/LIBRARY/VOL_STYL.XSL  \n",
            " extracting: TPP1600634630/VOL_PHR.XML  \n"
          ],
          "name": "stdout"
        }
      ]
    },
    {
      "cell_type": "code",
      "metadata": {
        "id": "WpBriXzJHGhx",
        "colab_type": "code",
        "colab": {
          "base_uri": "https://localhost:8080/",
          "height": 610
        },
        "outputId": "3e8c1eb5-6c6a-4d92-a6c8-3ffdfc205a8e"
      },
      "source": [
        "!unzip DS_PHR1B_201401131909126_FR1_PX_W123N37_0717_02786.zip"
      ],
      "execution_count": 8,
      "outputs": [
        {
          "output_type": "stream",
          "text": [
            "Archive:  DS_PHR1B_201401131909126_FR1_PX_W123N37_0717_02786.zip\n",
            "   creating: TPP1600634629/\n",
            " extracting: TPP1600634629/DELIVERY.PDF  \n",
            "   creating: TPP1600634629/IMG_PHR1B_PMS_001/\n",
            " extracting: TPP1600634629/IMG_PHR1B_PMS_001/DIM_PHR1B_PMS_201401131909126_ORT_2326235101-001.XML  \n",
            " extracting: TPP1600634629/IMG_PHR1B_PMS_001/ICON_PHR1B_PMS_201401131909126_ORT_2326235101-001.JPG  \n",
            " extracting: TPP1600634629/IMG_PHR1B_PMS_001/IMG_PHR1B_PMS_201401131909126_ORT_2326235101-001_R1C1.J2W  \n",
            " extracting: TPP1600634629/IMG_PHR1B_PMS_001/IMG_PHR1B_PMS_201401131909126_ORT_2326235101-001_R1C1.JP2  \n",
            " extracting: TPP1600634629/IMG_PHR1B_PMS_001/INDEX.HTM  \n",
            "   creating: TPP1600634629/IMG_PHR1B_PMS_001/LIBRARY/\n",
            " extracting: TPP1600634629/IMG_PHR1B_PMS_001/LIBRARY/LOGO.JPG  \n",
            " extracting: TPP1600634629/IMG_PHR1B_PMS_001/LIBRARY/STYLE.XSL  \n",
            "   creating: TPP1600634629/IMG_PHR1B_PMS_001/LINEAGE/\n",
            " extracting: TPP1600634629/IMG_PHR1B_PMS_001/LINEAGE/HEIGHT_R3D_DT2_N37W123_DIM.XML  \n",
            " extracting: TPP1600634629/IMG_PHR1B_PMS_001/LINEAGE/PROCESSING_PHR1B_PMS_201401131909126_ORT_2326235101-001_DIM.XML  \n",
            " extracting: TPP1600634629/IMG_PHR1B_PMS_001/LINEAGE/STRIP_DS_PHR1B_201401131909126_FR1_PX_W123N37_0717_02786_DIM.XML  \n",
            "   creating: TPP1600634629/IMG_PHR1B_PMS_001/MASKS/\n",
            " extracting: TPP1600634629/IMG_PHR1B_PMS_001/MASKS/CLD_PHR1B_PMS_201401131909126_ORT_2326235101-001_MSK.GML  \n",
            " extracting: TPP1600634629/IMG_PHR1B_PMS_001/MASKS/DET_PHR1B_PMS_201401131909126_ORT_2326235101-001_MSK.GML  \n",
            " extracting: TPP1600634629/IMG_PHR1B_PMS_001/MASKS/QTE_PHR1B_PMS_201401131909126_ORT_2326235101-001_MSK.GML  \n",
            " extracting: TPP1600634629/IMG_PHR1B_PMS_001/MASKS/ROI_PHR1B_PMS_201401131909126_ORT_2326235101-001_MSK.GML  \n",
            " extracting: TPP1600634629/IMG_PHR1B_PMS_001/MASKS/SLT_PHR1B_PMS_201401131909126_ORT_2326235101-001_MSK.GML  \n",
            " extracting: TPP1600634629/IMG_PHR1B_PMS_001/MASKS/SNW_PHR1B_PMS_201401131909126_ORT_2326235101-001_MSK.GML  \n",
            " extracting: TPP1600634629/IMG_PHR1B_PMS_001/MASKS/VIS_PHR1B_PMS_201401131909126_ORT_2326235101-001_MSK.GML  \n",
            " extracting: TPP1600634629/IMG_PHR1B_PMS_001/PREVIEW_PHR1B_PMS_201401131909126_ORT_2326235101-001.JPG  \n",
            " extracting: TPP1600634629/IMG_PHR1B_PMS_001/PREVIEW_PHR1B_PMS_201401131909126_ORT_2326235101-001.KMZ  \n",
            " extracting: TPP1600634629/INDEX.HTM  \n",
            "   creating: TPP1600634629/LIBRARY/\n",
            " extracting: TPP1600634629/LIBRARY/LOGO.JPG  \n",
            " extracting: TPP1600634629/LIBRARY/VOL_STYL.XSL  \n",
            " extracting: TPP1600634629/VOL_PHR.XML  \n"
          ],
          "name": "stdout"
        }
      ]
    },
    {
      "cell_type": "code",
      "metadata": {
        "id": "HMzaxGivHUO1",
        "colab_type": "code",
        "colab": {
          "base_uri": "https://localhost:8080/",
          "height": 610
        },
        "outputId": "88c64ea7-714a-4f25-a794-d1bf06cff942"
      },
      "source": [
        "!unzip DS_PHR1B_201702111904481_FR1_PX_W123N37_0719_01352.zip"
      ],
      "execution_count": 9,
      "outputs": [
        {
          "output_type": "stream",
          "text": [
            "Archive:  DS_PHR1B_201702111904481_FR1_PX_W123N37_0719_01352.zip\n",
            "   creating: TPP1600634627/\n",
            " extracting: TPP1600634627/DELIVERY.PDF  \n",
            "   creating: TPP1600634627/IMG_PHR1B_PMS_001/\n",
            " extracting: TPP1600634627/IMG_PHR1B_PMS_001/DIM_PHR1B_PMS_201702111904481_ORT_2326232101-001.XML  \n",
            " extracting: TPP1600634627/IMG_PHR1B_PMS_001/ICON_PHR1B_PMS_201702111904481_ORT_2326232101-001.JPG  \n",
            " extracting: TPP1600634627/IMG_PHR1B_PMS_001/IMG_PHR1B_PMS_201702111904481_ORT_2326232101-001_R1C1.J2W  \n",
            " extracting: TPP1600634627/IMG_PHR1B_PMS_001/IMG_PHR1B_PMS_201702111904481_ORT_2326232101-001_R1C1.JP2  \n",
            " extracting: TPP1600634627/IMG_PHR1B_PMS_001/INDEX.HTM  \n",
            "   creating: TPP1600634627/IMG_PHR1B_PMS_001/LIBRARY/\n",
            " extracting: TPP1600634627/IMG_PHR1B_PMS_001/LIBRARY/LOGO.JPG  \n",
            " extracting: TPP1600634627/IMG_PHR1B_PMS_001/LIBRARY/STYLE.XSL  \n",
            "   creating: TPP1600634627/IMG_PHR1B_PMS_001/LINEAGE/\n",
            " extracting: TPP1600634627/IMG_PHR1B_PMS_001/LINEAGE/HEIGHT_R3D_DT2_N37W123_DIM.XML  \n",
            " extracting: TPP1600634627/IMG_PHR1B_PMS_001/LINEAGE/PROCESSING_PHR1B_PMS_201702111904481_ORT_2326232101-001_DIM.XML  \n",
            " extracting: TPP1600634627/IMG_PHR1B_PMS_001/LINEAGE/STRIP_DS_PHR1B_201702111904481_FR1_PX_W123N37_0719_01352_DIM.XML  \n",
            "   creating: TPP1600634627/IMG_PHR1B_PMS_001/MASKS/\n",
            " extracting: TPP1600634627/IMG_PHR1B_PMS_001/MASKS/CLD_PHR1B_PMS_201702111904481_ORT_2326232101-001_MSK.GML  \n",
            " extracting: TPP1600634627/IMG_PHR1B_PMS_001/MASKS/DET_PHR1B_PMS_201702111904481_ORT_2326232101-001_MSK.GML  \n",
            " extracting: TPP1600634627/IMG_PHR1B_PMS_001/MASKS/QTE_PHR1B_PMS_201702111904481_ORT_2326232101-001_MSK.GML  \n",
            " extracting: TPP1600634627/IMG_PHR1B_PMS_001/MASKS/ROI_PHR1B_PMS_201702111904481_ORT_2326232101-001_MSK.GML  \n",
            " extracting: TPP1600634627/IMG_PHR1B_PMS_001/MASKS/SLT_PHR1B_PMS_201702111904481_ORT_2326232101-001_MSK.GML  \n",
            " extracting: TPP1600634627/IMG_PHR1B_PMS_001/MASKS/SNW_PHR1B_PMS_201702111904481_ORT_2326232101-001_MSK.GML  \n",
            " extracting: TPP1600634627/IMG_PHR1B_PMS_001/MASKS/VIS_PHR1B_PMS_201702111904481_ORT_2326232101-001_MSK.GML  \n",
            " extracting: TPP1600634627/IMG_PHR1B_PMS_001/PREVIEW_PHR1B_PMS_201702111904481_ORT_2326232101-001.JPG  \n",
            " extracting: TPP1600634627/IMG_PHR1B_PMS_001/PREVIEW_PHR1B_PMS_201702111904481_ORT_2326232101-001.KMZ  \n",
            " extracting: TPP1600634627/INDEX.HTM  \n",
            "   creating: TPP1600634627/LIBRARY/\n",
            " extracting: TPP1600634627/LIBRARY/LOGO.JPG  \n",
            " extracting: TPP1600634627/LIBRARY/VOL_STYL.XSL  \n",
            " extracting: TPP1600634627/VOL_PHR.XML  \n"
          ],
          "name": "stdout"
        }
      ]
    },
    {
      "cell_type": "code",
      "metadata": {
        "id": "lc4KOIqjHcFX",
        "colab_type": "code",
        "colab": {
          "base_uri": "https://localhost:8080/",
          "height": 93
        },
        "outputId": "b13372f8-4b35-4924-a1e9-fe96f9290759"
      },
      "source": [
        "!ls"
      ],
      "execution_count": 10,
      "outputs": [
        {
          "output_type": "stream",
          "text": [
            "DS_PHR1A_201612271908229_FR1_PX_W123N37_0719_01350.zip\tsample_data\n",
            "DS_PHR1B_201401131909126_FR1_PX_W123N37_0717_02786.zip\tTPP1600634627\n",
            "DS_PHR1B_201611181909035_FR1_PX_W123N37_0817_01200.zip\tTPP1600634629\n",
            "DS_PHR1B_201702111904481_FR1_PX_W123N37_0719_01352.zip\tTPP1600634630\n"
          ],
          "name": "stdout"
        }
      ]
    },
    {
      "cell_type": "code",
      "metadata": {
        "id": "W0CP5l6gHqav",
        "colab_type": "code",
        "colab": {
          "base_uri": "https://localhost:8080/",
          "height": 227
        },
        "outputId": "6804675b-2aee-456e-b53e-45420c99b1b2"
      },
      "source": [
        "!wget https://sandbox.intelligence-airbusds.com/web/assets/files/Technical-Evaluation-Licence-December2014.pdf"
      ],
      "execution_count": 11,
      "outputs": [
        {
          "output_type": "stream",
          "text": [
            "--2019-10-30 14:44:08--  https://sandbox.intelligence-airbusds.com/web/assets/files/Technical-Evaluation-Licence-December2014.pdf\n",
            "Resolving sandbox.intelligence-airbusds.com (sandbox.intelligence-airbusds.com)... 108.177.96.121, 2a00:1450:4013:c02::79\n",
            "Connecting to sandbox.intelligence-airbusds.com (sandbox.intelligence-airbusds.com)|108.177.96.121|:443... connected.\n",
            "HTTP request sent, awaiting response... 200 OK\n",
            "Length: unspecified [application/pdf]\n",
            "Saving to: ‘Technical-Evaluation-Licence-December2014.pdf’\n",
            "\n",
            "\r          Technical     [<=>                 ]       0  --.-KB/s               \rTechnical-Evaluatio     [ <=>                ] 117.18K  --.-KB/s    in 0.02s   \n",
            "\n",
            "2019-10-30 14:44:09 (5.40 MB/s) - ‘Technical-Evaluation-Licence-December2014.pdf’ saved [119991]\n",
            "\n"
          ],
          "name": "stdout"
        }
      ]
    },
    {
      "cell_type": "code",
      "metadata": {
        "id": "-GkWedcYH9TU",
        "colab_type": "code",
        "colab": {
          "base_uri": "https://localhost:8080/",
          "height": 208
        },
        "outputId": "fb75604a-f374-41f6-c774-de585e02735a"
      },
      "source": [
        "!pip install PyPDF2"
      ],
      "execution_count": 12,
      "outputs": [
        {
          "output_type": "stream",
          "text": [
            "Collecting PyPDF2\n",
            "\u001b[?25l  Downloading https://files.pythonhosted.org/packages/b4/01/68fcc0d43daf4c6bdbc6b33cc3f77bda531c86b174cac56ef0ffdb96faab/PyPDF2-1.26.0.tar.gz (77kB)\n",
            "\r\u001b[K     |████▎                           | 10kB 20.3MB/s eta 0:00:01\r\u001b[K     |████████▌                       | 20kB 6.3MB/s eta 0:00:01\r\u001b[K     |████████████▊                   | 30kB 8.8MB/s eta 0:00:01\r\u001b[K     |█████████████████               | 40kB 5.8MB/s eta 0:00:01\r\u001b[K     |█████████████████████▏          | 51kB 7.0MB/s eta 0:00:01\r\u001b[K     |█████████████████████████▍      | 61kB 8.3MB/s eta 0:00:01\r\u001b[K     |█████████████████████████████▋  | 71kB 9.4MB/s eta 0:00:01\r\u001b[K     |████████████████████████████████| 81kB 5.5MB/s \n",
            "\u001b[?25hBuilding wheels for collected packages: PyPDF2\n",
            "  Building wheel for PyPDF2 (setup.py) ... \u001b[?25l\u001b[?25hdone\n",
            "  Created wheel for PyPDF2: filename=PyPDF2-1.26.0-cp36-none-any.whl size=61085 sha256=dea5a8942c3874b768afa98d915a8e721810af5ce45e3c0fff9ebb24b2ff8317\n",
            "  Stored in directory: /root/.cache/pip/wheels/53/84/19/35bc977c8bf5f0c23a8a011aa958acd4da4bbd7a229315c1b7\n",
            "Successfully built PyPDF2\n",
            "Installing collected packages: PyPDF2\n",
            "Successfully installed PyPDF2-1.26.0\n"
          ],
          "name": "stdout"
        }
      ]
    },
    {
      "cell_type": "code",
      "metadata": {
        "id": "U6MJNChtIoAq",
        "colab_type": "code",
        "colab": {
          "base_uri": "https://localhost:8080/",
          "height": 189
        },
        "outputId": "f10a3b5b-e3d9-459a-e6da-bbfbcf914edb"
      },
      "source": [
        "ls"
      ],
      "execution_count": 14,
      "outputs": [
        {
          "output_type": "stream",
          "text": [
            "DS_PHR1A_201612271908229_FR1_PX_W123N37_0719_01350.zip\n",
            "DS_PHR1B_201401131909126_FR1_PX_W123N37_0717_02786.zip\n",
            "DS_PHR1B_201611181909035_FR1_PX_W123N37_0817_01200.zip\n",
            "DS_PHR1B_201702111904481_FR1_PX_W123N37_0719_01352.zip\n",
            "\u001b[0m\u001b[01;34msample_data\u001b[0m/\n",
            "Technical-Evaluation-Licence-December2014.pdf\n",
            "\u001b[01;34mTPP1600634627\u001b[0m/\n",
            "\u001b[01;34mTPP1600634629\u001b[0m/\n",
            "\u001b[01;34mTPP1600634630\u001b[0m/\n"
          ],
          "name": "stdout"
        }
      ]
    },
    {
      "cell_type": "code",
      "metadata": {
        "id": "sPoDE0AFIzPS",
        "colab_type": "code",
        "colab": {}
      },
      "source": [
        "import PyPDF2\n",
        "pdfFileObj = open('Technical-Evaluation-Licence-December2014.pdf', 'rb')\n",
        "pdfReader = PyPDF2.PdfFileReader(pdfFileObj)"
      ],
      "execution_count": 0,
      "outputs": []
    },
    {
      "cell_type": "code",
      "metadata": {
        "id": "iK8nJu7PI5Wu",
        "colab_type": "code",
        "colab": {
          "base_uri": "https://localhost:8080/",
          "height": 56
        },
        "outputId": "367499e0-0ca4-4565-870b-3aa49828d061"
      },
      "source": [
        "pageObj = pdfReader.getPage(0)\n",
        "pageObj.extractText()"
      ],
      "execution_count": 17,
      "outputs": [
        {
          "output_type": "execute_result",
          "data": {
            "text/plain": [
              "'Airbus Defence and Space\\n \\n \\nOctober\\n \\n2014\\n \\n \\n_____________________________________________________________________________________________________________________________\\n__\\n \\nAirbus DS Geo SA\\n \\nSociété anonyme (325 089 589 R.C.S. Toulouse)\\n \\nwith share capital of 18\\n \\n022\\n \\n\\n \\nRegistered\\n \\noffice: 5 rue des Satellites \\n\\n \\n31400 TOULOUSE \\n\\n \\nFRANCE\\n \\nTVA : FR 30325089589 \\n\\n \\nAPE/NAF : 7112B\\n \\n \\nT\\nECHNICAL \\nE\\nVALUATION \\nL\\nICENCE\\n \\n \\nN\\nON\\n-\\nE\\nXCLUSIVE \\nL\\nICENCE \\nT\\nO \\nU\\nSE\\n \\nS\\nTANDARD \\nP\\nRODUCT \\nFOR \\nT\\nECHNICAL \\nE\\nVALUATION \\nP\\nURPOSE \\nO\\nNLY\\n \\n \\nBy downloading\\n \\nand/or \\nmanipulating\\n \\nand/or using \\nthe PRODUCT, the \\nEND\\n-\\nUSER \\nsignifies that it\\n \\nunconditionally accepts \\nall the terms and conditions of the present Technical Evaluation Licen\\nc\\ne Agreement (hereinafter referred to as the \\n\\n-\\nUSER of this LICENCE is the condition upon which \\nAIR\\nBUS\\n \\nDS\\n \\nmakes the \\nPRODUCT available to the END\\n-\\nUSER.\\n \\nThe END\\n-\\nUSER of the PRODUCT shall \\nguarantee that the PRODUCT\\n \\nand any \\ncopy\\n \\nare\\n \\nused in strict compliance with the terms \\nhereof\\n.\\n \\n \\nThis LICENCE is entered into by and between the END\\n-\\nU\\nSER and AIRBUS\\n \\nDS.\\n \\n \\nA\\nRTICLE \\n1\\n \\n\\n \\nD\\nEFINITIONS\\n \\n \\n\\nAIRBUS DS\\n\\n \\n \\n\\nDERIVATIVE WORKS\\n\\n \\nderivative product or information developed by the END\\n-\\nUSER from the PRODUCT, \\nwhich does not contain any imagery data from the PRODUCT and is irreversible and uncoupled from the source imagery \\ndata of the PRODUCT. Notwithstanding the foregoing, by express\\n \\nexception, any Digital Elevation Model or Digital \\nTerrain Model (in any form whatsoever, i.e. database for instance) derived from a PRODUCT shall never be considered \\nas DERIVATIVE WORKS.\\n \\n \\n\\nEND\\n-\\nUSER\\n\\nmeans either the person, acting in \\nits\\n \\nown name, or the legal commercial business entity, including its \\npossible offices and branches in its country of residence, or the government agency, which is supplied with the \\nPRODUCT and accepts this \\nLICENCE\\n.\\n \\nWhen t\\nhe PRODUCT is supplied to a government\\n \\nentity (civil agency, public \\n\\n-\\nUSER shall be deemed to be only such part of the government entity as located at the address \\nto which the PRODUCT is supplied, except upon \\nAIRBUS\\n \\nDS\\n\\n \\nprior agreement in writing.\\n \\n \\n\\nEXTRACT\\n\\nor VAP \\nwhich may consist of:\\n \\n\\n \\nan extract of 1024 x\\n \\n1024 pixels maximum; or\\n \\n\\n \\nif supplied with the PRODUCT (preview file) by \\nAIRBUS\\n \\nDS\\n, the sub\\n-\\nsample (ratio 32 toward original PAN (8 \\ntoward original XS) ) of the original image\\n \\nof the PRODUCT.\\n \\n \\n\\nPRODUCT\\n\\nstandard satellite imagery and/or radar \\nproduct that \\nis\\n \\nprovided to the END\\n-\\nUSER for technical \\nevaluation purpose\\n.\\n \\n \\n\\nVAP\\n\\n-\\nUSER, which contains imagery data from the PRODUCT, and\\n \\nresulting in a significant modification of the PRODUCT, thro\\nugh technical manipulations \\nand/or addition of other data. \\nNotwithstanding the fore\\ngoing, by express exception, any Digital Elevation Model or Digital Terrain Model derived from a \\nPRODUCT shall a\\nlways be considered as a VAP.\\n \\n \\nA\\nRTICLE \\n2\\n \\n-\\n \\nL\\nICENCE\\n \\n \\n2.1 Permitted Uses\\n \\n \\nThe END\\n-\\nUSER is hereby granted by \\nAIRBUS\\n \\nDS\\n \\na limited, non\\n-\\nexclusi\\nve, \\nnon\\n-\\ntransferable\\n, licence\\n:\\n \\n(a)\\n \\nto make an unlimited number of copies of the PRODUCT for the Permitted Uses specified \\nin this Article 2.1;\\n \\n(b)\\n \\nto install the PRODUCT on as many individual computers as needed in its premises, including internal computer \\nnetwork (with the exp\\nress exclusion of the Internet\\n) for the Permitted Uses specified in this Article 2.1;\\n \\n(c)\\n \\nto use the PRODUCT\\n \\nfor internal technic\\nal evaluation purposes\\n \\nonly\\n;\\n \\n(d)\\n \\nto alter or modify the PRODUCT to produce VAP and\\n/or\\n \\nDERIVATIVE WORKS\\n \\nfor \\ninternal technic\\nal evaluation \\npurposes \\nonly\\n;\\n \\n(e)\\n \\nto use any VAP and/or DERIVATIVE WORKS\\n \\nfor \\ninternal technic\\nal evaluation purposes\\n \\nonly\\n;\\n \\n(f)\\n \\nto \\nuse a PRODUCT\\n, \\nVAP and/or DERIVATIVE WORKS\\n \\nin the framework of competitive analysis (such \\nas \\nbenchmarking)\\n \\nfor internal \\ntechnic\\nal evaluation purposes\\n \\nonly\\n;\\n \\n(g)\\n \\nto make the PRODUCT \\nand\\n/or\\n \\nany VAP \\navailable \\nto contractors and consultants, only for technical \\nevaluation on \\nbehalf of the END\\n-\\nUSER, subject to such contractors and consultants agreeing in writing, in advance, (I) to be bound \\nby the same limitations on use as applicable to the END\\n-\\nUSER, and (II) to return the PRODUCT to END\\n-\\nUSER, and \\nto keep no copy\\n \\nthereof, upon completion of the contracting or consulting engagement\\n.\\n \\nBy express exception, \\nElevation\\n \\nPRODUCTS \\n(3D) and \\nTerraSAR\\n-\\nX \\nPRODUCTS \\nshall not be made available and/or transferred to any third \\nparty without \\nAIRBUS\\n \\nDS\\n\\nconsent\\n; and\\n \\n'"
            ]
          },
          "metadata": {
            "tags": []
          },
          "execution_count": 17
        }
      ]
    },
    {
      "cell_type": "markdown",
      "metadata": {
        "id": "51weZoUDJjQt",
        "colab_type": "text"
      },
      "source": [
        "Airbus Defence and Space October 2014\n",
        "\n",
        " \n",
        "\n",
        "TECHNICAL EVALUATION LICENCE\n",
        "\n",
        "NON-EXCLUSIVE LICENCE TO USE STANDARD PRODUCT FOR TECHNICAL EVALUATION\n",
        "PURPOSE ONLY\n",
        "\n",
        "By downloading and/or manipulating and/or using the PRODUCT, the END—USER signifies that it unconditionally accepts\n",
        "all the terms and conditions of the present Technical Evaluation Licence Agreement (hereinafter referred to as the\n",
        "“LICENCE\"). The acceptance by the END—USER of this LICENCE is the condition upon which AIRBUS DS makes the\n",
        "PRODUCT available to the END—USER. The END—USER of the PRODUCT sha|| guarantee that the PRODUCT and any\n",
        "copy are used in strict compliance with the terms hereof.\n",
        "\n",
        "This LICENCE is entered into by and between the END—USER and AIRBUS DS.\n",
        "\n",
        "ARTICLE 1 — DEFINITIONS\n",
        "“AIRBUS DS\": means Airbus DS Geo SA.\n",
        "\n",
        "“DERIVATIVE WORKS\": means any derivative product or information developed by the END—USER from the PRODUCT,\n",
        "which does not contain any imagery data from the PRODUCT and is irreversible and uncoupled from the source imagery\n",
        "data of the PRODUCT. Notwithstanding the foregoing, by express exception, any Digital Elevation Model or Digital\n",
        "Terrain Model (in any form whatsoever, i.e. database for instance) derived from a PRODUCT shall never be considered\n",
        "as DERIVATIVE WORKS.\n",
        "\n",
        "“END-USER\": means either the person, acting in its own name, or the legal commercial business entity, including its\n",
        "possible offices and branches in its country of residence, or the government agency, which is supplied with the\n",
        "PRODUCT and accepts this LICENCE. When the PRODUCT is supplied to a government entity (civil agency, public\n",
        "department, ...), the END—USER shall be deemed to be only such part of the government entity as located at the address\n",
        "to which the PRODUCT is supplied, except upon AIRBUS DS‘ prior agreement in writing.\n",
        "\n",
        "“EXTRACT\": means an extract of a PRODUCT or VAP which may consist of:\n",
        "0 an extract of 1024 X 1024 pixels maximum; or\n",
        "o if supplied with the PRODUCT (preview file) by AIRBUS DS, the sub—sample (ratio 32 toward original PAN (8\n",
        "toward original XS) ) of the original image of the PRODUCT.\n",
        "\n",
        "“PRODUCT\": means any standard satellite imagery and/or radar product that is provided to the END—USER for technical\n",
        "evaluation purpose.\n",
        "\n",
        "“VAP\": means any product developed by the END—USER, which contains imagery data from the PRODUCT, and\n",
        "resulting in a significant modification of the PRODUCT, through technical manipulations and/or addition of other data.\n",
        "\n",
        "Notwithstanding the foregoing, by express exception, any Digital Elevation Model or Digital Terrain Model derived from a\n",
        "PRODUCT shall always be considered as a VAP.\n",
        "\n",
        "ARTICLE 2 - LICENCE\n",
        "2.1 Permitted Uses\n",
        "\n",
        "The END—USER is hereby granted by AIRBUS DS a limited, non—exclusive, non—transferable, licence:\n",
        "\n",
        "(a) to make an unlimited number of copies of the PRODUCT for the Permitted Uses specified in this Article 2.1;\n",
        "\n",
        "(b) to install the PRODUCT on as many individual computers as needed in its premises, including internal computer\n",
        "\n",
        "network (with the express exclusion of the Internet) for the Permitted Uses specified in this Article 2.1;\n",
        "\n",
        "( ) to use the PRODUCT for internal technical evaluation purposes only;\n",
        "\n",
        "(d) to alter or modify the PRODUCT to produce VAP and/or DERIVATIVE WORKS for internal technical evaluation\n",
        "purposes only;\n",
        "\n",
        "(e) to use any VAP and/or DERIVATIVE WORKS for internal technical evaluation purposes only;\n",
        "\n",
        "(f) to use a PRODUCT, VAP and/or DERIVATIVE WORKS in the framework of competitive analysis (such as\n",
        "benchmarking) for internal technical evaluation purposes only;\n",
        "\n",
        "(9) to make the PRODUCT and/or any VAP available to contractors and consultants, only for technical evaluation on\n",
        "behalf of the END—USER, subject to such contractors and consultants agreeing in writing, in advance, (I) to be bound\n",
        "by the same limitations on use as applicable to the END—USER, and (II) to return the PRODUCT to END—USER, and\n",
        "to keep no copy thereof, upon completion of the contracting or consulting engagement. By express exception,\n",
        "Elevation PRODUCTS (3D) and TerraSAR—X PRODUCTS shall not be made available and/or transferred to any third\n",
        "party without AIRBUS DS‘ prior written consent; and\n",
        "\n",
        " \n",
        "\n",
        "Airbus DS Geo SA\n",
        "\n",
        "Société anonyme (325 089 589 R.C.S. Toulouse) with share capital of 18 022 949 €\n",
        "Registered office: 5 rue des Satellites — 31400 TOULOUSE — FRANCE\n",
        "\n",
        "TVA : FR 30325089589 — APEINAF : 71123\n",
        "\n",
        "Airbus Defence and Space October 2014\n",
        "\n",
        " \n",
        "\n",
        "(h) to print one EXTRACT of the PRODUCT for internal technical evaluation purposes only, with the credit of the\n",
        "corresponding PRODUCT mentioned in article 3.4 conspicuously displayed and written in full.\n",
        "\n",
        "All rights not expressly granted by AIRBUS DS under the present Article 2.1 are hereby retained by AIRBUS DS.\n",
        "\n",
        "2.2 Prohibited Uses\n",
        "\n",
        "The END—USER shall not, and shall guarantee that any contractor or consultant engaged as per the provisions of Article\n",
        "\n",
        "2.1 (9) does not:\n",
        "\n",
        "(a) use the PRODUCT, VAP and/or DERIVATIVE WORKS for any use other than internal technical evaluation,\n",
        "especially, any commercial use;\n",
        "\n",
        "b) alter or remove any copyright notice or proprietary legend contained in or on the PRODUCT;\n",
        "\n",
        "c reproduce, transmit, disseminate, or make available in any way the PRODUCT and/or any product created from the\n",
        "PRODUCT, in whole or in part, to any third party other than a contractor or consultant engaged as per the provisions\n",
        "of Article 2.1 (g), by any means, free of charge or in return for payment;\n",
        "\n",
        "(d) publish or communicate in any way a competitive analysis (such as benchmarking) of any PRODUCT, VAP and/or\n",
        "\n",
        "DERIVATIVE WORKS except article 2.1 f);\n",
        "(e) transfer the PRODUCT outside of the territory of establishment of the END—USER; or\n",
        "(f) do anything not expressly permitted under Article 2.1.\n",
        "\n",
        "AA\n",
        "V\n",
        "\n",
        "2.3 Technical Evaluation Results\n",
        "The END—USER shall inform AIRBUS D8 of the results of the evaluation it has performed.\n",
        "ARTICLE 3 — INTELLECTUAL PROPERTY RIGHTS\n",
        "\n",
        "3.1 The data contained in the PRODUCT are the property of:\n",
        "\n",
        "0 Centre National d‘Etudes Spatiales (CNES) for SPOT 1 to 5 and PLEIADES sate||ites imagery data, SPOTMaps\n",
        "and SPOT DEM data;\n",
        "\n",
        "AIRBUS DS for SPOT 6 and 7 sate||ites imagery data (© AIRBUS DS);\n",
        "\n",
        "National Space Organization (NSPO) for FORMOSAT—Z satellite imagery data;\n",
        "\n",
        "DEIMOS Imaging for DEIMOS—1 satellite imagery data and DEIMOS Maps data;\n",
        "\n",
        "Federal Republic of Germany for TerraSAR—X satellite data which are distributed by Infoterra GmbH; and\n",
        "\n",
        "AIRBUS DS and IGN France, in common, for Reference3D and SPOT DEM Precision data.\n",
        "\n",
        "3.2 The PRODUCT is protected by French and international copyright laws.\n",
        "\n",
        "3.3 In addition, the PRODUCT and the satellite imagery data contained therein are protected by articles L 341—1 to 343—7\n",
        "of the French Code of Intellectual Property Law as amended by the statute of 1 July 1998, relative to database\n",
        "copyright and to similar statutes in European countries that have incorporated EU Directive n° 96/9 of 11 March 1996\n",
        "on database copyright into their |aws.\n",
        "\n",
        "3.4 The PRODUCT, VAP and/or EXTRACT, when displayed and/or printed in accordance with the Permitted Uses\n",
        "specified in Article 2.1 shall include the AIRBUS DS logo and the following credits conspicuously displayed:\n",
        "\n",
        "0 For SPOT 1 to 5, PLEIADES satellite imagery data, SPOTMaps and SPOT DEM data: “© CNES (year of\n",
        "acquisition), Distribution AIRBUS DS\"\n",
        "\n",
        "0 For SPOT 6 and 7 imagery data: “© AIRBUS DS (year of acquisition)\"\n",
        "\n",
        "0 For FORMOSAT—Z satellite imagery data: “© NSPO (year of production), Distribution AstriumServices/Spot\n",
        "Image SA\"\n",
        "\n",
        "0 For DEIMOS—1 satellite imagery data and DEIMOS Maps data: “© Deimos Imaging (year of production),\n",
        "Distribution AIRBUS DS\"\n",
        "\n",
        "0 For TerraSAR—X satellite data: “© DLR e. V. (year of acquisition), Distribution AIRBUS DS/Infoterra GmbH\"\n",
        "\n",
        "0 For Reference3D and SPOT DEM Precision data: “© CNES (year of reception of the data)\"; and “© AIRBUS\n",
        "DS (year of production of the PRODUCT)\" and “© IGN France (year of production of the PRODUCT)\"\n",
        "\n",
        "ARTICLE 4 — WARRANTY — LIABILITY\n",
        "\n",
        "4.1 AIRBUS DS warrants that it has sufficient ownership rights in the PRODUCT to make the PRODUCT available to the\n",
        "END—USER under the terms hereof.\n",
        "\n",
        "4.2 The PRODUCT is complex; AIRBUS DS does not warrant that the PRODUCT is free of bugs, errors, defects or\n",
        "omissions, and that operation of the PRODUCT will be error—free or uninterrupted nor that all non—conformities will or\n",
        "can be corrected. It does not warrant that the PRODUCT shall meet the END—USER‘s requirements or expectations,\n",
        "or shall be fit for the END—USER‘s intended purposes. There are no express or implied warranties of fitness or\n",
        "merchantability given in connection with the use of the PRODUCT or any other warranty. AIRBUS DS disclaims all\n",
        "other warranties or liabilities not expressly provided in Articles 4.1 and 4.2.\n",
        "\n",
        " \n",
        "\n",
        "Airbus DS Geo SA\n",
        "\n",
        "Société anonyme (325 089 589 R.C.S. Toulouse) with share capital of 18 022 949 €\n",
        "Registered office: 5 rue des Satellites — 31400 TOULOUSE — FRANCE\n",
        "\n",
        "TVA : FR 30325089589 — APEINAF : 7112B\n",
        "\n",
        "Airbus Defence and Space October 2014\n",
        "\n",
        " \n",
        "\n",
        "4.3 In no event shall AIRBUS DS, nor its licensors, nor anybody having contributed to development and/or production\n",
        "\n",
        "and/or delivery of the PRODUCT, be liable for any claim, damage or loss incurred by the END—USER, including\n",
        "without limitation indirect, compensatory, consequential, incidental, special, incorporeal or exemplary damages\n",
        "arising out of the use of or inability to use the PRODUCT, and shall not be subject to legal action in this respect.\n",
        "\n",
        "The financial cumulative liability of AIRBUS DS and its licensors and of anybody having contributed to the\n",
        "development and/or production and/or delivery of the PRODUCT shall in any case be limited to five hundred euros\n",
        "(500€).\n",
        "\n",
        "ARTICLE 5 — MISCELLANEOUS\n",
        "\n",
        "5.1\n",
        "\n",
        "This LICENCE shall run for six (6) months from the date the PRODUCT is made available to the END USER. It is\n",
        "granted free of royalties.\n",
        "\n",
        "5.2 AIRBUS DS may, in addition to all other remedies to which it may be entitled under this LICENCE or at law,\n",
        "\n",
        "terminate this LICENCE by notice in writing if the END—USER breaches any provision hereof. The END—USER shall\n",
        "have no claim to any kind of indemnity in this case. Upon termination or expiration of this LICENCE, the END—USER\n",
        "shall return to AIRBUS DS the PRODUCT and VAP and all copies thereof.\n",
        "\n",
        "5.3 The END—USER shall not transfer part or all of this LICENCE.\n",
        "5.4 In the event that any provision of this LICENCE is declared invalid or unenforceable, the remaining provisions hereof\n",
        "\n",
        "shall be applicable.\n",
        "\n",
        "5.5 This LICENCE is governed by the laws of France. All disputes shall be referred to the courts of Toulouse, France.\n",
        "\n",
        " \n",
        "\n",
        "(Date)\n",
        "\n",
        " \n",
        "\n",
        "(Name of the organization of the END USER)\n",
        "\n",
        " \n",
        "\n",
        "(Name of the representative of the END USER)\n",
        "\n",
        " \n",
        "\n",
        "(Title of the representative of the END USER)\n",
        "\n",
        " \n",
        "\n",
        "(Signature of the representative of the END USER)\n",
        "\n",
        " \n",
        "\n",
        "Airbus DS Geo SA\n",
        "\n",
        "Société anonyme (325 089 589 R.C.S. Toulouse) with share capital of 18 022 949 €\n",
        "Registered office: 5 rue des Satellites — 31400 TOULOUSE — FRANCE\n",
        "\n",
        "TVA : FR 30325089589 — APEINAF : 7112B\n"
      ]
    }
  ]
}